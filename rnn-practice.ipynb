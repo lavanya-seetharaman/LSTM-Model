{
 "cells": [
  {
   "cell_type": "code",
   "execution_count": 5,
   "id": "2be0447e",
   "metadata": {},
   "outputs": [
    {
     "name": "stderr",
     "output_type": "stream",
     "text": [
      "[nltk_data] Downloading package stopwords to\n",
      "[nltk_data]     /Users/lavanyaseetharaman/nltk_data...\n",
      "[nltk_data]   Unzipping corpora/stopwords.zip.\n"
     ]
    }
   ],
   "source": [
    "import pandas as pd\n",
    "import re\n",
    "import tensorflow as tf\n",
    "import keras\n",
    "from keras.models import Sequential\n",
    "from keras.layers import Dense, LSTM, Dropout, Bidirectional, Embedding, SpatialDropout1D\n",
    "import matplotlib.pyplot as plt\n",
    "import nltk\n",
    "nltk.download(\"stopwords\")\n",
    "from nltk.corpus import stopwords"
   ]
  },
  {
   "cell_type": "code",
   "execution_count": 9,
   "id": "caccb375",
   "metadata": {},
   "outputs": [],
   "source": [
    "complaints = pd.read_csv('complaints.csv', index_col=False, dtype='unicode')\n",
    "complaints = complaints[['Consumer complaint narrative', 'Product']]\n",
    "complaints.dropna(inplace=True)"
   ]
  },
  {
   "cell_type": "code",
   "execution_count": 10,
   "id": "0fe58134",
   "metadata": {},
   "outputs": [
    {
     "data": {
      "text/html": [
       "<div>\n",
       "<style scoped>\n",
       "    .dataframe tbody tr th:only-of-type {\n",
       "        vertical-align: middle;\n",
       "    }\n",
       "\n",
       "    .dataframe tbody tr th {\n",
       "        vertical-align: top;\n",
       "    }\n",
       "\n",
       "    .dataframe thead th {\n",
       "        text-align: right;\n",
       "    }\n",
       "</style>\n",
       "<table border=\"1\" class=\"dataframe\">\n",
       "  <thead>\n",
       "    <tr style=\"text-align: right;\">\n",
       "      <th></th>\n",
       "      <th>Consumer complaint narrative</th>\n",
       "      <th>Product</th>\n",
       "    </tr>\n",
       "  </thead>\n",
       "  <tbody>\n",
       "    <tr>\n",
       "      <th>3</th>\n",
       "      <td>Wells Fargo closed my credit card account with...</td>\n",
       "      <td>Credit card or prepaid card</td>\n",
       "    </tr>\n",
       "    <tr>\n",
       "      <th>51</th>\n",
       "      <td>My account is set up to limit communications t...</td>\n",
       "      <td>Checking or savings account</td>\n",
       "    </tr>\n",
       "    <tr>\n",
       "      <th>69</th>\n",
       "      <td>. I received a text stating a fraudulent charg...</td>\n",
       "      <td>Money transfer, virtual currency, or money ser...</td>\n",
       "    </tr>\n",
       "    <tr>\n",
       "      <th>70</th>\n",
       "      <td>I mailed a check to my granddaughter from Flor...</td>\n",
       "      <td>Checking or savings account</td>\n",
       "    </tr>\n",
       "    <tr>\n",
       "      <th>113</th>\n",
       "      <td>PayPal Credit in coordination with Synchrony B...</td>\n",
       "      <td>Credit card or prepaid card</td>\n",
       "    </tr>\n",
       "    <tr>\n",
       "      <th>134</th>\n",
       "      <td>Hard inquiries are on my credit report that I ...</td>\n",
       "      <td>Credit reporting, credit repair services, or o...</td>\n",
       "    </tr>\n",
       "    <tr>\n",
       "      <th>172</th>\n",
       "      <td>My minimum payment for my Fortiva Retail Credi...</td>\n",
       "      <td>Credit card or prepaid card</td>\n",
       "    </tr>\n",
       "    <tr>\n",
       "      <th>292</th>\n",
       "      <td>I have filed numerous complaints with the 3 cr...</td>\n",
       "      <td>Credit reporting, credit repair services, or o...</td>\n",
       "    </tr>\n",
       "    <tr>\n",
       "      <th>310</th>\n",
       "      <td>I noticed a negative report added to my credit...</td>\n",
       "      <td>Debt collection</td>\n",
       "    </tr>\n",
       "    <tr>\n",
       "      <th>347</th>\n",
       "      <td>I want to inform the Credit Bureaus AGAIN that...</td>\n",
       "      <td>Credit reporting, credit repair services, or o...</td>\n",
       "    </tr>\n",
       "    <tr>\n",
       "      <th>354</th>\n",
       "      <td>I HAVE DISPUTED WITH EXPERIAN AND XXXX OVER MY...</td>\n",
       "      <td>Credit reporting, credit repair services, or o...</td>\n",
       "    </tr>\n",
       "    <tr>\n",
       "      <th>362</th>\n",
       "      <td>In XXXX of XXXX, Wells Fargo entered into a se...</td>\n",
       "      <td>Vehicle loan or lease</td>\n",
       "    </tr>\n",
       "    <tr>\n",
       "      <th>364</th>\n",
       "      <td>This is additional information regarding compl...</td>\n",
       "      <td>Checking or savings account</td>\n",
       "    </tr>\n",
       "    <tr>\n",
       "      <th>367</th>\n",
       "      <td>In XX/XX/2022, I was notified by XXXX XXXX who...</td>\n",
       "      <td>Credit card or prepaid card</td>\n",
       "    </tr>\n",
       "    <tr>\n",
       "      <th>372</th>\n",
       "      <td>I have attached an FTC report with fraudulent ...</td>\n",
       "      <td>Credit reporting, credit repair services, or o...</td>\n",
       "    </tr>\n",
       "    <tr>\n",
       "      <th>402</th>\n",
       "      <td>I went over my credit and noticed there are a ...</td>\n",
       "      <td>Credit reporting, credit repair services, or o...</td>\n",
       "    </tr>\n",
       "    <tr>\n",
       "      <th>425</th>\n",
       "      <td>I'm sending this complaint to inform AGAIN the...</td>\n",
       "      <td>Credit reporting, credit repair services, or o...</td>\n",
       "    </tr>\n",
       "    <tr>\n",
       "      <th>478</th>\n",
       "      <td>I recently disputed unauthorized credit inquir...</td>\n",
       "      <td>Credit reporting, credit repair services, or o...</td>\n",
       "    </tr>\n",
       "    <tr>\n",
       "      <th>481</th>\n",
       "      <td>I want to inform the Credit Bureaus AGAIN that...</td>\n",
       "      <td>Credit reporting, credit repair services, or o...</td>\n",
       "    </tr>\n",
       "    <tr>\n",
       "      <th>490</th>\n",
       "      <td>This company is reporting information without ...</td>\n",
       "      <td>Debt collection</td>\n",
       "    </tr>\n",
       "  </tbody>\n",
       "</table>\n",
       "</div>"
      ],
      "text/plain": [
       "                          Consumer complaint narrative  \\\n",
       "3    Wells Fargo closed my credit card account with...   \n",
       "51   My account is set up to limit communications t...   \n",
       "69   . I received a text stating a fraudulent charg...   \n",
       "70   I mailed a check to my granddaughter from Flor...   \n",
       "113  PayPal Credit in coordination with Synchrony B...   \n",
       "134  Hard inquiries are on my credit report that I ...   \n",
       "172  My minimum payment for my Fortiva Retail Credi...   \n",
       "292  I have filed numerous complaints with the 3 cr...   \n",
       "310  I noticed a negative report added to my credit...   \n",
       "347  I want to inform the Credit Bureaus AGAIN that...   \n",
       "354  I HAVE DISPUTED WITH EXPERIAN AND XXXX OVER MY...   \n",
       "362  In XXXX of XXXX, Wells Fargo entered into a se...   \n",
       "364  This is additional information regarding compl...   \n",
       "367  In XX/XX/2022, I was notified by XXXX XXXX who...   \n",
       "372  I have attached an FTC report with fraudulent ...   \n",
       "402  I went over my credit and noticed there are a ...   \n",
       "425  I'm sending this complaint to inform AGAIN the...   \n",
       "478  I recently disputed unauthorized credit inquir...   \n",
       "481  I want to inform the Credit Bureaus AGAIN that...   \n",
       "490  This company is reporting information without ...   \n",
       "\n",
       "                                               Product  \n",
       "3                          Credit card or prepaid card  \n",
       "51                         Checking or savings account  \n",
       "69   Money transfer, virtual currency, or money ser...  \n",
       "70                         Checking or savings account  \n",
       "113                        Credit card or prepaid card  \n",
       "134  Credit reporting, credit repair services, or o...  \n",
       "172                        Credit card or prepaid card  \n",
       "292  Credit reporting, credit repair services, or o...  \n",
       "310                                    Debt collection  \n",
       "347  Credit reporting, credit repair services, or o...  \n",
       "354  Credit reporting, credit repair services, or o...  \n",
       "362                              Vehicle loan or lease  \n",
       "364                        Checking or savings account  \n",
       "367                        Credit card or prepaid card  \n",
       "372  Credit reporting, credit repair services, or o...  \n",
       "402  Credit reporting, credit repair services, or o...  \n",
       "425  Credit reporting, credit repair services, or o...  \n",
       "478  Credit reporting, credit repair services, or o...  \n",
       "481  Credit reporting, credit repair services, or o...  \n",
       "490                                    Debt collection  "
      ]
     },
     "execution_count": 10,
     "metadata": {},
     "output_type": "execute_result"
    }
   ],
   "source": [
    "complaints.head(20)"
   ]
  },
  {
   "cell_type": "code",
   "execution_count": 11,
   "id": "e0be1eeb",
   "metadata": {},
   "outputs": [
    {
     "data": {
      "text/html": [
       "<div>\n",
       "<style scoped>\n",
       "    .dataframe tbody tr th:only-of-type {\n",
       "        vertical-align: middle;\n",
       "    }\n",
       "\n",
       "    .dataframe tbody tr th {\n",
       "        vertical-align: top;\n",
       "    }\n",
       "\n",
       "    .dataframe thead th {\n",
       "        text-align: right;\n",
       "    }\n",
       "</style>\n",
       "<table border=\"1\" class=\"dataframe\">\n",
       "  <thead>\n",
       "    <tr style=\"text-align: right;\">\n",
       "      <th></th>\n",
       "      <th>Consumer complaint narrative</th>\n",
       "      <th>Product</th>\n",
       "    </tr>\n",
       "  </thead>\n",
       "  <tbody>\n",
       "    <tr>\n",
       "      <th>3</th>\n",
       "      <td>Wells Fargo closed my credit card account with...</td>\n",
       "      <td>Credit card or prepaid card</td>\n",
       "    </tr>\n",
       "    <tr>\n",
       "      <th>51</th>\n",
       "      <td>My account is set up to limit communications t...</td>\n",
       "      <td>Checking or savings account</td>\n",
       "    </tr>\n",
       "    <tr>\n",
       "      <th>69</th>\n",
       "      <td>. I received a text stating a fraudulent charg...</td>\n",
       "      <td>Money transfer, virtual currency, or money ser...</td>\n",
       "    </tr>\n",
       "    <tr>\n",
       "      <th>70</th>\n",
       "      <td>I mailed a check to my granddaughter from Flor...</td>\n",
       "      <td>Checking or savings account</td>\n",
       "    </tr>\n",
       "    <tr>\n",
       "      <th>113</th>\n",
       "      <td>PayPal Credit in coordination with Synchrony B...</td>\n",
       "      <td>Credit card or prepaid card</td>\n",
       "    </tr>\n",
       "    <tr>\n",
       "      <th>...</th>\n",
       "      <td>...</td>\n",
       "      <td>...</td>\n",
       "    </tr>\n",
       "    <tr>\n",
       "      <th>3586722</th>\n",
       "      <td>Can you let me know why after i paid my $ XXXX...</td>\n",
       "      <td>Mortgage</td>\n",
       "    </tr>\n",
       "    <tr>\n",
       "      <th>3586766</th>\n",
       "      <td>On XX/XX/XXXX Tuesday, after I switched my cho...</td>\n",
       "      <td>Mortgage</td>\n",
       "    </tr>\n",
       "    <tr>\n",
       "      <th>3586794</th>\n",
       "      <td>After falling behind on our mortgage in 2011, ...</td>\n",
       "      <td>Mortgage</td>\n",
       "    </tr>\n",
       "    <tr>\n",
       "      <th>3586795</th>\n",
       "      <td>Hello, I opened a CitiGold checking account wi...</td>\n",
       "      <td>Bank account or service</td>\n",
       "    </tr>\n",
       "    <tr>\n",
       "      <th>3586796</th>\n",
       "      <td>I am unable to access my credit report online ...</td>\n",
       "      <td>Credit reporting</td>\n",
       "    </tr>\n",
       "  </tbody>\n",
       "</table>\n",
       "<p>1295056 rows × 2 columns</p>\n",
       "</div>"
      ],
      "text/plain": [
       "                              Consumer complaint narrative  \\\n",
       "3        Wells Fargo closed my credit card account with...   \n",
       "51       My account is set up to limit communications t...   \n",
       "69       . I received a text stating a fraudulent charg...   \n",
       "70       I mailed a check to my granddaughter from Flor...   \n",
       "113      PayPal Credit in coordination with Synchrony B...   \n",
       "...                                                    ...   \n",
       "3586722  Can you let me know why after i paid my $ XXXX...   \n",
       "3586766  On XX/XX/XXXX Tuesday, after I switched my cho...   \n",
       "3586794  After falling behind on our mortgage in 2011, ...   \n",
       "3586795  Hello, I opened a CitiGold checking account wi...   \n",
       "3586796  I am unable to access my credit report online ...   \n",
       "\n",
       "                                                   Product  \n",
       "3                              Credit card or prepaid card  \n",
       "51                             Checking or savings account  \n",
       "69       Money transfer, virtual currency, or money ser...  \n",
       "70                             Checking or savings account  \n",
       "113                            Credit card or prepaid card  \n",
       "...                                                    ...  \n",
       "3586722                                           Mortgage  \n",
       "3586766                                           Mortgage  \n",
       "3586794                                           Mortgage  \n",
       "3586795                            Bank account or service  \n",
       "3586796                                   Credit reporting  \n",
       "\n",
       "[1295056 rows x 2 columns]"
      ]
     },
     "execution_count": 11,
     "metadata": {},
     "output_type": "execute_result"
    }
   ],
   "source": [
    "complaints"
   ]
  },
  {
   "cell_type": "code",
   "execution_count": 12,
   "id": "5237623b",
   "metadata": {},
   "outputs": [],
   "source": [
    "symbols_regex = re.compile('[/(){}\\[\\]\\|@,;]')\n",
    "bad_symbols_regex = re.compile('[^0-9a-z #+_]')\n",
    "\n",
    "def clean_text(text):\n",
    "    text = text.replace('\\d+', '')\n",
    "    text = text.lower()\n",
    "    text = symbols_regex.sub(' ', text)\n",
    "    text = bad_symbols_regex.sub('', text)\n",
    "    text = text.replace('x', '')\n",
    "    return text\n",
    "\n",
    "complaints['Consumer complaint narrative'] = complaints['Consumer complaint narrative'].apply(clean_text)"
   ]
  },
  {
   "cell_type": "code",
   "execution_count": 13,
   "id": "8390ea6f",
   "metadata": {},
   "outputs": [
    {
     "data": {
      "text/plain": [
       "Credit reporting, credit repair services, or other personal consumer reports    642735\n",
       "Debt collection                                                                 205604\n",
       "Mortgage                                                                        103889\n",
       "Credit card or prepaid card                                                      93321\n",
       "Checking or savings account                                                      66387\n",
       "Student loan                                                                     34748\n",
       "Credit reporting                                                                 31587\n",
       "Money transfer, virtual currency, or money service                               30269\n",
       "Vehicle loan or lease                                                            23114\n",
       "Credit card                                                                      18838\n",
       "Payday loan, title loan, or personal loan                                        15217\n",
       "Bank account or service                                                          14885\n",
       "Consumer Loan                                                                     9461\n",
       "Payday loan                                                                       1746\n",
       "Money transfers                                                                   1497\n",
       "Prepaid card                                                                      1450\n",
       "Other financial service                                                            292\n",
       "Virtual currency                                                                    16\n",
       "Name: Product, dtype: int64"
      ]
     },
     "execution_count": 13,
     "metadata": {},
     "output_type": "execute_result"
    }
   ],
   "source": [
    "complaints['Product'].value_counts().sort_values(ascending=False)"
   ]
  },
  {
   "cell_type": "code",
   "execution_count": 32,
   "id": "97c9167e",
   "metadata": {},
   "outputs": [],
   "source": [
    "vectorize_layer = tf.keras.layers.TextVectorization(standardize='lower_and_strip_punctuation',max_tokens=5000,output_mode='int',output_sequence_length=512)\n",
    "\n",
    "vectorize_layer.adapt(complaints['Consumer complaint narrative'], batch_size=None)\n",
    "\n",
    "X_train_padded = vectorize_layer(complaints['Consumer complaint narrative'])\n",
    "X_train_padded = X_train_padded.numpy()\n",
    "X= X_train_padded"
   ]
  },
  {
   "cell_type": "code",
   "execution_count": 30,
   "id": "e0af2f94",
   "metadata": {},
   "outputs": [],
   "source": [
    "from sklearn.preprocessing import MinMaxScaler, LabelEncoder\n",
    "from sklearn.model_selection import train_test_split"
   ]
  },
  {
   "cell_type": "code",
   "execution_count": 27,
   "id": "82bbb8f3",
   "metadata": {},
   "outputs": [],
   "source": [
    "le = LabelEncoder()\n",
    "complaints['Product']= le.fit_transform(complaints['Product'])\n",
    "y = complaints['Product']"
   ]
  },
  {
   "cell_type": "code",
   "execution_count": 33,
   "id": "e76acd79",
   "metadata": {},
   "outputs": [],
   "source": [
    "X_train, X_test, y_train,y_test = train_test_split(X, y, test_size = 0.3 , random_state = 42)"
   ]
  },
  {
   "cell_type": "markdown",
   "id": "aa207cba",
   "metadata": {},
   "source": [
    "Create LSTM Network"
   ]
  },
  {
   "cell_type": "code",
   "execution_count": 34,
   "id": "d7526f62",
   "metadata": {},
   "outputs": [],
   "source": [
    "classifier = Sequential()\n",
    "classifier.add(Embedding(5000, 100, input_length=X.shape[1]))\n",
    "classifier.add(SpatialDropout1D(0.2))\n",
    "classifier.add(LSTM(100, dropout=0.2, recurrent_dropout=0.2))\n",
    "classifier.add(Dense(17, activation='softmax'))"
   ]
  },
  {
   "cell_type": "code",
   "execution_count": 36,
   "id": "185fe687",
   "metadata": {},
   "outputs": [
    {
     "name": "stdout",
     "output_type": "stream",
     "text": [
      "Model: \"sequential\"\n",
      "_________________________________________________________________\n",
      " Layer (type)                Output Shape              Param #   \n",
      "=================================================================\n",
      " embedding (Embedding)       (None, 512, 100)          500000    \n",
      "                                                                 \n",
      " spatial_dropout1d (SpatialD  (None, 512, 100)         0         \n",
      " ropout1D)                                                       \n",
      "                                                                 \n",
      " lstm (LSTM)                 (None, 100)               80400     \n",
      "                                                                 \n",
      " dense (Dense)               (None, 17)                1717      \n",
      "                                                                 \n",
      "=================================================================\n",
      "Total params: 582,117\n",
      "Trainable params: 582,117\n",
      "Non-trainable params: 0\n",
      "_________________________________________________________________\n"
     ]
    }
   ],
   "source": [
    "classifier.summary()"
   ]
  },
  {
   "cell_type": "code",
   "execution_count": 39,
   "id": "4f0dec15",
   "metadata": {},
   "outputs": [
    {
     "name": "stdout",
     "output_type": "stream",
     "text": [
      "28330/28330 [==============================] - 15679s 553ms/step - loss: 49.5215 - mae: 6.4254 - mape: 676142.0000 - lr: 1.0000e-07\n"
     ]
    }
   ],
   "source": [
    "lr_schedule = keras.callbacks.LearningRateScheduler(lambda epoch:1e-7 * 10**(epoch/20))\n",
    "opt = tf.keras.optimizers.Adam(learning_rate=1e-7)\n",
    "classifier.compile(optimizer=opt, loss='mse', metrics=['mae', 'mape'])\n",
    "early_stopping = tf.keras.callbacks.EarlyStopping(monitor='loss', mode='min', patience=20)\n",
    "mc = tf.keras.callbacks.ModelCheckpoint('best_lstm_mode.h5', monitor='loss', mode='min', verbose=0 , save_best_only=True)\n",
    "hist = classifier.fit(X_train, y_train, epochs=1, batch_size=32, callbacks=[mc, lr_schedule, early_stopping])"
   ]
  },
  {
   "cell_type": "code",
   "execution_count": 40,
   "id": "1aeb54ba",
   "metadata": {},
   "outputs": [
    {
     "name": "stdout",
     "output_type": "stream",
     "text": [
      "28330/28330 [==============================] - 2154s 76ms/step\n"
     ]
    }
   ],
   "source": [
    "prediction = classifier.predict(X_train)"
   ]
  },
  {
   "cell_type": "code",
   "execution_count": 41,
   "id": "46ab0ab9",
   "metadata": {},
   "outputs": [
    {
     "data": {
      "text/plain": [
       "array([[0.05888884, 0.05884019, 0.05888471, ..., 0.05884019, 0.05882064,\n",
       "        0.05887364],\n",
       "       [0.05888884, 0.05884019, 0.05888471, ..., 0.05884019, 0.05882064,\n",
       "        0.05887364],\n",
       "       [0.05888884, 0.05884019, 0.05888471, ..., 0.05884019, 0.05882064,\n",
       "        0.05887364],\n",
       "       ...,\n",
       "       [0.05773179, 0.05920929, 0.05907447, ..., 0.0589638 , 0.05794427,\n",
       "        0.05898903],\n",
       "       [0.05888884, 0.05884019, 0.05888471, ..., 0.05884019, 0.05882064,\n",
       "        0.05887364],\n",
       "       [0.05888884, 0.05884019, 0.05888471, ..., 0.05884019, 0.05882064,\n",
       "        0.05887364]], dtype=float32)"
      ]
     },
     "execution_count": 41,
     "metadata": {},
     "output_type": "execute_result"
    }
   ],
   "source": [
    "prediction"
   ]
  },
  {
   "cell_type": "code",
   "execution_count": 42,
   "id": "052714ae",
   "metadata": {},
   "outputs": [
    {
     "name": "stdout",
     "output_type": "stream",
     "text": [
      "dict_keys(['loss', 'mae', 'mape', 'lr'])\n"
     ]
    }
   ],
   "source": [
    "print(hist.history.keys())"
   ]
  },
  {
   "cell_type": "code",
   "execution_count": 44,
   "id": "67ef5b86",
   "metadata": {},
   "outputs": [
    {
     "name": "stdout",
     "output_type": "stream",
     "text": [
      "12142/12142 [==============================] - 904s 74ms/step - loss: 49.4780 - mae: 6.4235 - mape: 676049.4375\n"
     ]
    },
    {
     "data": {
      "text/plain": [
       "[49.47797775268555, 6.42350959777832, 676049.4375]"
      ]
     },
     "execution_count": 44,
     "metadata": {},
     "output_type": "execute_result"
    }
   ],
   "source": [
    "classifier.evaluate(X_test,y_test)"
   ]
  },
  {
   "cell_type": "code",
   "execution_count": null,
   "id": "72e4560c",
   "metadata": {},
   "outputs": [],
   "source": []
  }
 ],
 "metadata": {
  "kernelspec": {
   "display_name": "Python 3 (ipykernel)",
   "language": "python",
   "name": "python3"
  },
  "language_info": {
   "codemirror_mode": {
    "name": "ipython",
    "version": 3
   },
   "file_extension": ".py",
   "mimetype": "text/x-python",
   "name": "python",
   "nbconvert_exporter": "python",
   "pygments_lexer": "ipython3",
   "version": "3.10.9"
  }
 },
 "nbformat": 4,
 "nbformat_minor": 5
}
